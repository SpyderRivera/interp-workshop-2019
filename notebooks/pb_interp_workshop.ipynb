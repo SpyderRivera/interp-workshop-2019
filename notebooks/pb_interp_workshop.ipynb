{
 "cells": [
  {
   "cell_type": "markdown",
   "metadata": {},
   "source": [
    "## Paul's draft of the IACS 2019 interpretability + fairness workshop"
   ]
  },
  {
   "cell_type": "code",
   "execution_count": 6,
   "metadata": {},
   "outputs": [],
   "source": [
    "# Imports\n",
    "import numpy as np\n",
    "import pandas as pd \n",
    "import matplotlib.pyplot as plt\n",
    "import seaborn as sns\n",
    "from sklearn.linear_model import LogisticRegression\n",
    "from sklearn.ensemble import RandomForestClassifier\n",
    "from sklearn.model_selection import train_test_split\n",
    "\n",
    "import eqtools as eq \n",
    "\n",
    "sns.set_palette('Set3', color_codes=True)\n",
    "%matplotlib inline"
   ]
  },
  {
   "cell_type": "markdown",
   "metadata": {},
   "source": [
    "### misc code "
   ]
  },
  {
   "cell_type": "code",
   "execution_count": 2,
   "metadata": {},
   "outputs": [],
   "source": [
    "def find_corr_feats(df, thresh=0.95):\n",
    "    \"\"\" Function to drop linearly correalated features above a threshold of correlation \n",
    "    --------\n",
    "    Args:\n",
    "        df (pandas dataframe): DataFrame with at least two quantitative features\n",
    "        thresh (float): the threshold of absolute pearson correlation to drop features above\n",
    "    --------\n",
    "    Returns: \n",
    "        (list) the feature names to drop \n",
    "    \"\"\"\n",
    "    # Correlation matrix\n",
    "    corr_matrix = df.corr().abs()\n",
    "\n",
    "    # Select upper triangle of correlation matrix and find columns\n",
    "    upper = corr_matrix.where(np.triu(np.ones(corr_matrix.shape), k=1).astype(np.bool))\n",
    "    \n",
    "    # Find cols to drop \n",
    "    to_drop = [column for column in upper.columns if any(upper[column] > thresh)]\n",
    "    return to_drop\n",
    "\n",
    "\"\"\"top_feats = ['loan_amnt', 'term', 'int_rate', 'annual_inc', 'dti', 'fico_range_low',\n",
    "       'mths_since_last_delinq', 'open_acc', 'revol_bal', 'revol_util',\n",
    "       'total_acc']+['grade', 'emp_length', 'home_ownership', 'verification_status',\\\n",
    "        'zip_code','disbursement_method']\n",
    "new_df2 = new_df[top_feats].copy(deep=True)\n",
    "new_df2.isnull()\"\"\"\n",
    "\"\"\"\n",
    "to_drop = find_corr_feats(df, thresh=0.9)\n",
    "new_df = df.drop(to_drop, axis=1)\n",
    "\"\"\"\n",
    "\"\"\"from sklearn.model_selection import train_test_split\n",
    "from sklearn.ensemble import RandomForestClassifier\n",
    "from sklearn.feature_selection import SelectFromModel\n",
    "\n",
    "s_df = new_df.sample(int(len(new_df)*.2), random_state=42)\n",
    "df_x = s_df.drop(list(df.dtypes[df.dtypes==object].index)+['loan_status'], axis=1)\n",
    "df_y = s_df['loan_status']\n",
    "\n",
    "xtr, xte, ytr, yte = train_test_split(df_x, df_y, test_size=0.33, random_state=42)\n",
    "\n",
    "clf = RandomForestClassifier(n_estimators=100, random_state=0, n_jobs=-1)\n",
    "sfm = SelectFromModel(clf, threshold='median')\n",
    "sfm.fit(xtr, ytr)\n",
    "\n",
    "df_x.columns[sfm.get_support(indices=True)]\"\"\"\n",
    "import eqtools as eq\n",
    "import importlib as imp\n",
    "imp.reload(eq)\n",
    "import eqtools as eq\n",
    "%load_ext autoreload\n",
    "%autoreload 2"
   ]
  },
  {
   "cell_type": "markdown",
   "metadata": {},
   "source": [
    "## Load the (relatively) cleaned data\n",
    "\n",
    "We are using data from LendingClub which you can download [here](https://drive.google.com/file/d/1yVUnuSA19CHyLbeyfCkunp5AGKzyBKLx/view?usp=sharing).   \n",
    "\n",
    "This data covers LendingClub's open peer-to-peer lending data from 2012 to 2018.  The dataset contains features about the borrower, and each row represents a loan.  The data can be downloaded in its raw form from LendingClub's website, but we have taken care of some data cleaning to streamline this tutorial.   "
   ]
  },
  {
   "cell_type": "code",
   "execution_count": 3,
   "metadata": {},
   "outputs": [
    {
     "name": "stdout",
     "output_type": "stream",
     "text": [
      "We have 805148 rows.\n"
     ]
    },
    {
     "data": {
      "text/html": [
       "<div>\n",
       "<style scoped>\n",
       "    .dataframe tbody tr th:only-of-type {\n",
       "        vertical-align: middle;\n",
       "    }\n",
       "\n",
       "    .dataframe tbody tr th {\n",
       "        vertical-align: top;\n",
       "    }\n",
       "\n",
       "    .dataframe thead th {\n",
       "        text-align: right;\n",
       "    }\n",
       "</style>\n",
       "<table border=\"1\" class=\"dataframe\">\n",
       "  <thead>\n",
       "    <tr style=\"text-align: right;\">\n",
       "      <th></th>\n",
       "      <th>loan_amnt</th>\n",
       "      <th>int_rate</th>\n",
       "      <th>annual_inc</th>\n",
       "      <th>dti</th>\n",
       "      <th>delinq_2yrs</th>\n",
       "      <th>fico_range_low</th>\n",
       "      <th>inq_last_6mths</th>\n",
       "      <th>mths_since_last_delinq</th>\n",
       "      <th>mths_since_last_record</th>\n",
       "      <th>open_acc</th>\n",
       "      <th>...</th>\n",
       "      <th>emp_length</th>\n",
       "      <th>home_ownership</th>\n",
       "      <th>verification_status</th>\n",
       "      <th>zip_code</th>\n",
       "      <th>term</th>\n",
       "      <th>initial_list_status</th>\n",
       "      <th>disbursement_method</th>\n",
       "      <th>application_type</th>\n",
       "      <th>loan_status</th>\n",
       "      <th>age_of_cr_line</th>\n",
       "    </tr>\n",
       "  </thead>\n",
       "  <tbody>\n",
       "    <tr>\n",
       "      <th>0</th>\n",
       "      <td>5000.0</td>\n",
       "      <td>0.1065</td>\n",
       "      <td>24000.0</td>\n",
       "      <td>27.65</td>\n",
       "      <td>0.0</td>\n",
       "      <td>735.0</td>\n",
       "      <td>1.0</td>\n",
       "      <td>34.446551</td>\n",
       "      <td>70.816146</td>\n",
       "      <td>3.0</td>\n",
       "      <td>...</td>\n",
       "      <td>10+ years</td>\n",
       "      <td>RENT</td>\n",
       "      <td>Verified</td>\n",
       "      <td>860xx</td>\n",
       "      <td>36</td>\n",
       "      <td>f</td>\n",
       "      <td>Cash</td>\n",
       "      <td>Individual</td>\n",
       "      <td>1</td>\n",
       "      <td>33.0</td>\n",
       "    </tr>\n",
       "    <tr>\n",
       "      <th>1</th>\n",
       "      <td>2500.0</td>\n",
       "      <td>0.1527</td>\n",
       "      <td>30000.0</td>\n",
       "      <td>1.00</td>\n",
       "      <td>0.0</td>\n",
       "      <td>740.0</td>\n",
       "      <td>5.0</td>\n",
       "      <td>34.446551</td>\n",
       "      <td>70.816146</td>\n",
       "      <td>3.0</td>\n",
       "      <td>...</td>\n",
       "      <td>&lt; 1 year</td>\n",
       "      <td>RENT</td>\n",
       "      <td>Source Verified</td>\n",
       "      <td>309xx</td>\n",
       "      <td>60</td>\n",
       "      <td>f</td>\n",
       "      <td>Cash</td>\n",
       "      <td>Individual</td>\n",
       "      <td>0</td>\n",
       "      <td>19.0</td>\n",
       "    </tr>\n",
       "    <tr>\n",
       "      <th>2</th>\n",
       "      <td>2400.0</td>\n",
       "      <td>0.1596</td>\n",
       "      <td>12252.0</td>\n",
       "      <td>8.72</td>\n",
       "      <td>0.0</td>\n",
       "      <td>735.0</td>\n",
       "      <td>2.0</td>\n",
       "      <td>34.446551</td>\n",
       "      <td>70.816146</td>\n",
       "      <td>2.0</td>\n",
       "      <td>...</td>\n",
       "      <td>10+ years</td>\n",
       "      <td>RENT</td>\n",
       "      <td>Not Verified</td>\n",
       "      <td>606xx</td>\n",
       "      <td>36</td>\n",
       "      <td>f</td>\n",
       "      <td>Cash</td>\n",
       "      <td>Individual</td>\n",
       "      <td>1</td>\n",
       "      <td>17.0</td>\n",
       "    </tr>\n",
       "    <tr>\n",
       "      <th>3</th>\n",
       "      <td>10000.0</td>\n",
       "      <td>0.1349</td>\n",
       "      <td>49200.0</td>\n",
       "      <td>20.00</td>\n",
       "      <td>0.0</td>\n",
       "      <td>690.0</td>\n",
       "      <td>1.0</td>\n",
       "      <td>35.000000</td>\n",
       "      <td>70.816146</td>\n",
       "      <td>10.0</td>\n",
       "      <td>...</td>\n",
       "      <td>10+ years</td>\n",
       "      <td>RENT</td>\n",
       "      <td>Source Verified</td>\n",
       "      <td>917xx</td>\n",
       "      <td>36</td>\n",
       "      <td>f</td>\n",
       "      <td>Cash</td>\n",
       "      <td>Individual</td>\n",
       "      <td>1</td>\n",
       "      <td>22.0</td>\n",
       "    </tr>\n",
       "    <tr>\n",
       "      <th>4</th>\n",
       "      <td>3000.0</td>\n",
       "      <td>0.1269</td>\n",
       "      <td>80000.0</td>\n",
       "      <td>17.94</td>\n",
       "      <td>0.0</td>\n",
       "      <td>695.0</td>\n",
       "      <td>0.0</td>\n",
       "      <td>38.000000</td>\n",
       "      <td>70.816146</td>\n",
       "      <td>15.0</td>\n",
       "      <td>...</td>\n",
       "      <td>1 year</td>\n",
       "      <td>RENT</td>\n",
       "      <td>Source Verified</td>\n",
       "      <td>972xx</td>\n",
       "      <td>60</td>\n",
       "      <td>f</td>\n",
       "      <td>Cash</td>\n",
       "      <td>Individual</td>\n",
       "      <td>1</td>\n",
       "      <td>22.0</td>\n",
       "    </tr>\n",
       "  </tbody>\n",
       "</table>\n",
       "<p>5 rows × 34 columns</p>\n",
       "</div>"
      ],
      "text/plain": [
       "   loan_amnt  int_rate  annual_inc    dti  delinq_2yrs  fico_range_low  \\\n",
       "0     5000.0    0.1065     24000.0  27.65          0.0           735.0   \n",
       "1     2500.0    0.1527     30000.0   1.00          0.0           740.0   \n",
       "2     2400.0    0.1596     12252.0   8.72          0.0           735.0   \n",
       "3    10000.0    0.1349     49200.0  20.00          0.0           690.0   \n",
       "4     3000.0    0.1269     80000.0  17.94          0.0           695.0   \n",
       "\n",
       "   inq_last_6mths  mths_since_last_delinq  mths_since_last_record  open_acc  \\\n",
       "0             1.0               34.446551               70.816146       3.0   \n",
       "1             5.0               34.446551               70.816146       3.0   \n",
       "2             2.0               34.446551               70.816146       2.0   \n",
       "3             1.0               35.000000               70.816146      10.0   \n",
       "4             0.0               38.000000               70.816146      15.0   \n",
       "\n",
       "        ...        emp_length  home_ownership  verification_status  zip_code  \\\n",
       "0       ...         10+ years            RENT             Verified     860xx   \n",
       "1       ...          < 1 year            RENT      Source Verified     309xx   \n",
       "2       ...         10+ years            RENT         Not Verified     606xx   \n",
       "3       ...         10+ years            RENT      Source Verified     917xx   \n",
       "4       ...            1 year            RENT      Source Verified     972xx   \n",
       "\n",
       "   term  initial_list_status  disbursement_method  application_type  \\\n",
       "0    36                    f                 Cash        Individual   \n",
       "1    60                    f                 Cash        Individual   \n",
       "2    36                    f                 Cash        Individual   \n",
       "3    36                    f                 Cash        Individual   \n",
       "4    60                    f                 Cash        Individual   \n",
       "\n",
       "   loan_status  age_of_cr_line  \n",
       "0            1            33.0  \n",
       "1            0            19.0  \n",
       "2            1            17.0  \n",
       "3            1            22.0  \n",
       "4            1            22.0  \n",
       "\n",
       "[5 rows x 34 columns]"
      ]
     },
     "execution_count": 3,
     "metadata": {},
     "output_type": "execute_result"
    }
   ],
   "source": [
    "# Import cleaned data\n",
    "df = pd.read_csv('../data/loans_data.csv')\n",
    "print(f'We have {len(df)} rows.')\n",
    "df.head()"
   ]
  },
  {
   "cell_type": "markdown",
   "metadata": {},
   "source": [
    "### Seperate out into train and test\n",
    "\n",
    "Here we define the column types and one hot encode the categorical variables for the ML algorithm"
   ]
  },
  {
   "cell_type": "code",
   "execution_count": 7,
   "metadata": {},
   "outputs": [],
   "source": [
    "# One hot encoding and subset into train/test \n",
    "quant_cols = ['loan_amnt', 'int_rate', 'annual_inc', 'dti', 'delinq_2yrs', 'fico_range_low',\\\n",
    "              'inq_last_6mths', 'mths_since_last_delinq', 'mths_since_last_record', 'open_acc', 'pub_rec',\\\n",
    "              'revol_bal', 'revol_util', 'total_acc', 'policy_code', 'acc_now_delinq', 'tot_coll_amt',\\\n",
    "              'tot_cur_bal', 'tax_liens', 'total_bal_ex_mort', 'total_bc_limit', 'total_il_high_credit_limit',\\\n",
    "              'age_of_cr_line', 'installment']\n",
    "\n",
    "cat_cols = ['grade','emp_length', 'home_ownership','verification_status', 'term', 'initial_list_status',\\\n",
    "            'disbursement_method', 'application_type']\n",
    "\n",
    "other_cols = ['zip_code']\n",
    "response_col = 'loan_status'\n",
    "\n",
    "df_x = pd.get_dummies(df[quant_cols+cat_cols], drop_first=True, columns=cat_cols)\n",
    "df_y = df[response_col]\n",
    "\n",
    "x_train, x_test, y_train, y_test = train_test_split(df_x, df_y, test_size=0.3, random_state=42)"
   ]
  },
  {
   "cell_type": "markdown",
   "metadata": {},
   "source": [
    "## Model Fitting \n",
    "\n",
    "Let's fit a model to the LendingClub data and see how well we do.  \n",
    "\n",
    "We will use a Random Forest because it is a high-capacity model which cannot be explained trivially.    "
   ]
  },
  {
   "cell_type": "code",
   "execution_count": 8,
   "metadata": {},
   "outputs": [],
   "source": [
    "# Fit Model\n",
    "# model = LogisticRegression(C=0.1, solver='liblinear', random_state=42).fit(x_train, y_train)\n",
    "model = RandomForestClassifier(n_estimators=50, max_depth=15, random_state=42).fit(x_train, y_train)"
   ]
  },
  {
   "cell_type": "code",
   "execution_count": 9,
   "metadata": {},
   "outputs": [
    {
     "name": "stdout",
     "output_type": "stream",
     "text": [
      "Accuracy Train: 0.8206; Accuracy Test: 0.801\n",
      "AUC train: 0.8231; AUC test: 0.7181\n"
     ]
    },
    {
     "data": {
      "image/png": "[encoded data removed]",
      "text/plain": [
       "<Figure size 864x432 with 3 Axes>"
      ]
     },
     "metadata": {},
     "output_type": "display_data"
    }
   ],
   "source": [
    "print(f'Accuracy Train: {round(model.score(x_train, y_train),4)};',\\\n",
    "      f'Accuracy Test: {round(model.score(x_test, y_test),4)}')\n",
    "eq.model.model_analysis(model, x_train, y_train, x_test, y_test, style='deck', figsize=(12,6));"
   ]
  },
  {
   "cell_type": "markdown",
   "metadata": {},
   "source": [
    "## We have a model, so now what? \n",
    "- What do you see that could be a potential problem with this model? \n",
    "- How can we check to see *why* the model is making its decisions?\n",
    "\n",
    "We can look at feature importances for the model because it's a tree-based ensemble.  Feature importances are good for a quick look but they can sometimes be [misleading](https://explained.ai/rf-importance/index.html).  Even if the calculated feature importances are faithful to the model's structure, we still do not know the importance of certain features for *individual* observations or *sub-groups* of observations."
   ]
  },
  {
   "cell_type": "code",
   "execution_count": 12,
   "metadata": {},
   "outputs": [
    {
     "data": {
      "image/png": "[encoded data removed]",
      "text/plain": [
       "<Figure size 576x432 with 1 Axes>"
      ]
     },
     "metadata": {},
     "output_type": "display_data"
    }
   ],
   "source": [
    "# fig, ax = plt.subplots(figsize=(8,6))\n",
    "# feat_importances = pd.Series(model.feature_importances_, index=x_train.columns)\n",
    "# ax = feat_importances.nlargest(10).sort_values().plot(kind='barh', color='r', alpha=0.6, ax=ax)\n",
    "# ax.set_title('Feature Importances - RF');\n",
    "\n",
    "# Eqtools version \n",
    "fig, ax = plt.subplots(figsize=(8,6))\n",
    "eq.viz.explain_model(model, x_train.columns, style='deck', ax=ax);"
   ]
  },
  {
   "cell_type": "markdown",
   "metadata": {},
   "source": [
    "### Exercise 1\n",
    "\n",
    "What do we want to do for the exercises? \n",
    "\n",
    "We are looking for something related to interperatability but do-able with the skill level of intermediate python and no familiarity with interp methods "
   ]
  },
  {
   "cell_type": "code",
   "execution_count": null,
   "metadata": {},
   "outputs": [],
   "source": []
  },
  {
   "cell_type": "markdown",
   "metadata": {},
   "source": [
    "## Deeper dive into LIME and Input Gradients \n",
    "- How do these methods look theoretically? \n",
    "- What do they mean practically and how should we use the results to inform model building?\n",
    "- Look quickly at [SHAP values](http://papers.nips.cc/paper/7062-a-unified-approach-to-interpreting-model-predictions.pdf) for theoretical side and systhesis "
   ]
  },
  {
   "cell_type": "code",
   "execution_count": null,
   "metadata": {},
   "outputs": [],
   "source": []
  },
  {
   "cell_type": "markdown",
   "metadata": {},
   "source": [
    "## Make a model that passes interp tests \n",
    "- Create model and validate with interp methods that it is making good assumptions about the structure of the data "
   ]
  },
  {
   "cell_type": "code",
   "execution_count": null,
   "metadata": {},
   "outputs": [],
   "source": []
  },
  {
   "cell_type": "markdown",
   "metadata": {},
   "source": [
    "## Apply Interp and verify the model passes"
   ]
  },
  {
   "cell_type": "code",
   "execution_count": null,
   "metadata": {},
   "outputs": [],
   "source": []
  },
  {
   "cell_type": "markdown",
   "metadata": {},
   "source": [
    "## Fairness! \n",
    "- Although a model is well-founded and predicts well, it can still be biased without us knowing\n",
    "- There are several ways to measure the fairness of a model\n"
   ]
  },
  {
   "cell_type": "code",
   "execution_count": null,
   "metadata": {},
   "outputs": [],
   "source": []
  },
  {
   "cell_type": "code",
   "execution_count": null,
   "metadata": {},
   "outputs": [],
   "source": []
  }
 ],
 "metadata": {
  "kernelspec": {
   "display_name": "Python 3",
   "language": "python",
   "name": "python3"
  },
  "language_info": {
   "codemirror_mode": {
    "name": "ipython",
    "version": 3
   },
   "file_extension": ".py",
   "mimetype": "text/x-python",
   "name": "python",
   "nbconvert_exporter": "python",
   "pygments_lexer": "ipython3",
   "version": "3.6.5"
  }
 },
 "nbformat": 4,
 "nbformat_minor": 2
}
